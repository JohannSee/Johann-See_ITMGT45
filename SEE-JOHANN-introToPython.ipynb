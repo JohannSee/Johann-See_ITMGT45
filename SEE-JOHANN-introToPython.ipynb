{
 "cells": [
  {
   "cell_type": "markdown",
   "id": "ddaa4530",
   "metadata": {},
   "source": [
    "# Student Details\n",
    "ID Number: 204660\n",
    "Surname: SEE\n",
    "Year and Course: 2 BS ITE"
   ]
  },
  {
   "cell_type": "code",
   "execution_count": 1,
   "id": "64d6e706",
   "metadata": {},
   "outputs": [],
   "source": [
    "def three_number_average(a,b,c):\n",
    "    output = (a+b+c)/3\n",
    "    return output"
   ]
  },
  {
   "cell_type": "code",
   "execution_count": 10,
   "id": "751709ee",
   "metadata": {},
   "outputs": [
    {
     "name": "stdout",
     "output_type": "stream",
     "text": [
      "first integer: 3\n",
      "second integer: 5\n",
      "third integer: 5\n",
      "The average of the three integers is  4.333333333333333\n"
     ]
    }
   ],
   "source": [
    "#first integer\n",
    "a = int(input(\"first integer: \"))\n",
    "\n",
    "#second integer\n",
    "b = int(input(\"second integer: \"))\n",
    "\n",
    "#third integer\n",
    "c = int(input(\"third integer: \"))\n",
    "\n",
    "output = three_number_average(a,b,c)\n",
    "\n",
    "print(\"The average of the three integers is \",output)"
   ]
  },
  {
   "cell_type": "code",
   "execution_count": null,
   "id": "8a5a7f28",
   "metadata": {},
   "outputs": [],
   "source": []
  }
 ],
 "metadata": {
  "kernelspec": {
   "display_name": "Python 3",
   "language": "python",
   "name": "python3"
  },
  "language_info": {
   "codemirror_mode": {
    "name": "ipython",
    "version": 3
   },
   "file_extension": ".py",
   "mimetype": "text/x-python",
   "name": "python",
   "nbconvert_exporter": "python",
   "pygments_lexer": "ipython3",
   "version": "3.8.8"
  }
 },
 "nbformat": 4,
 "nbformat_minor": 5
}
